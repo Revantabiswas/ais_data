{
 "cells": [
  {
   "cell_type": "code",
   "execution_count": 1,
   "metadata": {},
   "outputs": [
    {
     "name": "stdout",
     "output_type": "stream",
     "text": [
      "Anomalies detected using Z-score analysis have been saved to 'vessel_data_with_anomalies_zscore.csv'\n"
     ]
    }
   ],
   "source": [
    "import pandas as pd\n",
    "import numpy as np\n",
    "\n",
    "# Load AIS data with extracted features (e.g., from the previous feature extraction code)\n",
    "vessel_data = pd.read_csv('vessel_data_with_features.csv')\n",
    "\n",
    "# Calculate Z-scores for Speed Over Ground (SOG) and Course Over Ground (COG)\n",
    "vessel_data['sog_zscore'] = (vessel_data['SOG'] - vessel_data['SOG'].mean()) / vessel_data['SOG'].std()\n",
    "vessel_data['cog_zscore'] = (vessel_data['COG'] - vessel_data['COG'].mean()) / vessel_data['COG'].std()\n",
    "\n",
    "# Flag anomalies where Z-score is greater than a threshold (e.g., 3)\n",
    "vessel_data['sog_anomaly'] = vessel_data['sog_zscore'].abs() > 3\n",
    "vessel_data['cog_anomaly'] = vessel_data['cog_zscore'].abs() > 3\n",
    "\n",
    "# Save results to CSV\n",
    "vessel_data.to_csv('Generated_csv\\\\vessel_data_with_anomalies_zscore.csv', index=False)\n",
    "print(\"Anomalies detected using Z-score analysis have been saved to 'vessel_data_with_anomalies_zscore.csv'\")\n"
   ]
  },
  {
   "cell_type": "code",
   "execution_count": 3,
   "metadata": {},
   "outputs": [
    {
     "name": "stdout",
     "output_type": "stream",
     "text": [
      "Anomalies detected using moving average analysis have been saved to 'vessel_data_with_anomalies_moving_avg.csv'\n"
     ]
    }
   ],
   "source": [
    "# Calculate moving averages for SOG and COG\n",
    "vessel_data['sog_moving_avg'] = vessel_data['SOG'].rolling(window=5).mean()\n",
    "vessel_data['cog_moving_avg'] = vessel_data['COG'].rolling(window=5).mean()\n",
    "\n",
    "# Calculate anomalies based on deviations from the moving average\n",
    "vessel_data['sog_anomaly_moving_avg'] = np.abs(vessel_data['SOG'] - vessel_data['sog_moving_avg']) > 2 * vessel_data['SOG'].std()\n",
    "vessel_data['cog_anomaly_moving_avg'] = np.abs(vessel_data['COG'] - vessel_data['cog_moving_avg']) > 2 * vessel_data['COG'].std()\n",
    "\n",
    "# Save results to CSV\n",
    "vessel_data.to_csv('Generated_csv\\\\vessel_data_with_anomalies_moving_avg.csv', index=False)\n",
    "print(\"Anomalies detected using moving average analysis have been saved to 'vessel_data_with_anomalies_moving_avg.csv'\")\n"
   ]
  },
  {
   "cell_type": "code",
   "execution_count": 3,
   "metadata": {},
   "outputs": [
    {
     "name": "stdout",
     "output_type": "stream",
     "text": [
      "Anomalies detected using Kalman Filter have been saved to 'vessel_data_with_anomalies_kalman.csv'\n"
     ]
    }
   ],
   "source": [
    "from pykalman import KalmanFilter\n",
    "import pandas as pd\n",
    "import numpy as np\n",
    "\n",
    "# Load AIS data with extracted features (e.g., from the previous feature extraction code)\n",
    "vessel_data = pd.read_csv('Generated_csv\\\\vessel_data_with_features.csv')\n",
    "# Example: Kalman Filter for Speed (SOG)\n",
    "sog_values = vessel_data['SOG'].values\n",
    "\n",
    "# Initialize Kalman Filter\n",
    "kf = KalmanFilter(initial_state_mean=0, n_dim_obs=1)\n",
    "\n",
    "# Estimate speed\n",
    "state_means, state_covariances = kf.em(sog_values).filter(sog_values)\n",
    "\n",
    "# Detect anomalies where actual SOG significantly deviates from Kalman Filter prediction\n",
    "vessel_data['sog_kalman'] = state_means\n",
    "vessel_data['sog_anomaly_kalman'] = np.abs(vessel_data['SOG'] - vessel_data['sog_kalman']) > 2 * vessel_data['SOG'].std()\n",
    "\n",
    "# Save results to CSV\n",
    "vessel_data.to_csv('Generated_csv\\\\vessel_data_with_anomalies_kalman.csv', index=False)\n",
    "print(\"Anomalies detected using Kalman Filter have been saved to 'vessel_data_with_anomalies_kalman.csv'\")\n"
   ]
  },
  {
   "cell_type": "code",
   "execution_count": null,
   "metadata": {},
   "outputs": [],
   "source": []
  },
  {
   "cell_type": "code",
   "execution_count": null,
   "metadata": {},
   "outputs": [],
   "source": []
  },
  {
   "cell_type": "code",
   "execution_count": null,
   "metadata": {},
   "outputs": [],
   "source": []
  },
  {
   "cell_type": "code",
   "execution_count": null,
   "metadata": {},
   "outputs": [],
   "source": []
  }
 ],
 "metadata": {
  "kernelspec": {
   "display_name": "Python 3",
   "language": "python",
   "name": "python3"
  },
  "language_info": {
   "codemirror_mode": {
    "name": "ipython",
    "version": 3
   },
   "file_extension": ".py",
   "mimetype": "text/x-python",
   "name": "python",
   "nbconvert_exporter": "python",
   "pygments_lexer": "ipython3",
   "version": "3.12.4"
  }
 },
 "nbformat": 4,
 "nbformat_minor": 2
}
